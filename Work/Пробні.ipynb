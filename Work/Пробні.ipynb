{
 "cells": [
  {
   "cell_type": "code",
   "execution_count": 1,
   "id": "33381b66",
   "metadata": {},
   "outputs": [
    {
     "name": "stderr",
     "output_type": "stream",
     "text": [
      "UsageError: Line magic function `%python` not found (But cell magic `%%python` exists, did you mean that instead?).\n"
     ]
    }
   ],
   "source": [
    "\n",
    "%python start_system.py --skip-db-setup --skip-db-init --skip-db-seed"
   ]
  },
  {
   "cell_type": "code",
   "execution_count": 2,
   "id": "cc7d1375",
   "metadata": {},
   "outputs": [
    {
     "name": "stderr",
     "output_type": "stream",
     "text": [
      "UsageError: Line magic function `%python` not found (But cell magic `%%python` exists, did you mean that instead?).\n"
     ]
    }
   ],
   "source": [
    "%python start_system.py"
   ]
  },
  {
   "cell_type": "code",
   "execution_count": 1,
   "id": "93684daf",
   "metadata": {},
   "outputs": [],
   "source": [
    "def add_to_autostart():\n",
    "    \"\"\"Додає скрипт в автозавантаження\"\"\"\n",
    "    print_header(\"Додавання в автозавантаження\")\n",
    "\n",
    "    try:\n",
    "        if platform.system() == 'Windows':\n",
    "            startup = os.path.join(os.environ['APPDATA'], r'Microsoft\\Windows\\Start Menu\\Programs\\Startup')\n",
    "            shortcut_path = os.path.join(startup, \"ІАС НГУ.bat\")\n",
    "\n",
    "            python_path = sys.executable\n",
    "            script_path = os.path.abspath(__file__)\n",
    "\n",
    "            with open(shortcut_path, 'w', encoding='utf-8') as f:\n",
    "                f.write(f'@echo off\\n')\n",
    "                f.write(f'echo Запуск ІАС НГУ...\\n')\n",
    "                f.write(f'\"{python_path}\" \"{script_path}\" --no-shortcut\\n')\n",
    "                f.write(f'pause\\n')\n",
    "\n",
    "            print(f\"Ярлик для автозавантаження створено: {shortcut_path}\")\n",
    "\n",
    "        elif platform.system() == 'Linux':\n",
    "            autostart_dir = os.path.expanduser(\"~/.config/autostart\")\n",
    "            os.makedirs(autostart_dir, exist_ok=True)\n",
    "\n",
    "            shortcut_path = os.path.join(autostart_dir, \"ias_ngu.desktop\")\n",
    "\n",
    "            python_path = sys.executable\n",
    "            script_path = os.path.abspath(__file__)\n",
    "\n",
    "            with open(shortcut_path, 'w', encoding='utf-8') as f:\n",
    "                f.write(\"[Desktop Entry]\\n\")\n",
    "                f.write(\"Type=Application\\n\")\n",
    "                f.write(\"Name=ІАС НГУ\\n\")\n",
    "                f.write(f\"Exec={python_path} {script_path} --no-shortcut\\n\")\n",
    "                f.write(\"Terminal=true\\n\")\n",
    "                f.write(\"Comment=Інформаційно-аналітична система НГУ\\n\")\n",
    "\n",
    "            print(f\"Файл автозавантаження створено: {shortcut_path}\")\n",
    "\n",
    "        elif platform.system() == 'Darwin':\n",
    "            login_items_script = f\"\"\"\n",
    "            osascript -e 'tell application \"System Events\" to make login item at end with properties {{path:\"{os.path.abspath(__file__)}\", hidden:false}}'\n",
    "            \"\"\"\n",
    "            os.system(login_items_script)\n",
    "            print(\"Скрипт додано до автозавантаження macOS\")\n",
    "\n",
    "        else:\n",
    "            print(\"Автозавантаження для цієї ОС не підтримується автоматично.\")\n",
    "\n",
    "        return True\n",
    "\n",
    "    except Exception as e:\n",
    "        print(f\"Помилка при додаванні в автозавантаження: {e}\")\n",
    "        return False\n"
   ]
  },
  {
   "cell_type": "code",
   "execution_count": 2,
   "id": "7275b777",
   "metadata": {},
   "outputs": [
    {
     "ename": "NameError",
     "evalue": "name 'print_header' is not defined",
     "output_type": "error",
     "traceback": [
      "\u001b[1;31m---------------------------------------------------------------------------\u001b[0m",
      "\u001b[1;31mNameError\u001b[0m                                 Traceback (most recent call last)",
      "Cell \u001b[1;32mIn[2], line 2\u001b[0m\n\u001b[0;32m      1\u001b[0m \u001b[38;5;66;03m# Додаємо в автозавантаження\u001b[39;00m\n\u001b[1;32m----> 2\u001b[0m \u001b[43madd_to_autostart\u001b[49m\u001b[43m(\u001b[49m\u001b[43m)\u001b[49m\n",
      "Cell \u001b[1;32mIn[1], line 3\u001b[0m, in \u001b[0;36madd_to_autostart\u001b[1;34m()\u001b[0m\n\u001b[0;32m      1\u001b[0m \u001b[38;5;28;01mdef\u001b[39;00m \u001b[38;5;21madd_to_autostart\u001b[39m():\n\u001b[0;32m      2\u001b[0m \u001b[38;5;250m    \u001b[39m\u001b[38;5;124;03m\"\"\"Додає скрипт в автозавантаження\"\"\"\u001b[39;00m\n\u001b[1;32m----> 3\u001b[0m     \u001b[43mprint_header\u001b[49m(\u001b[38;5;124m\"\u001b[39m\u001b[38;5;124mДодавання в автозавантаження\u001b[39m\u001b[38;5;124m\"\u001b[39m)\n\u001b[0;32m      5\u001b[0m     \u001b[38;5;28;01mtry\u001b[39;00m:\n\u001b[0;32m      6\u001b[0m         \u001b[38;5;28;01mif\u001b[39;00m platform\u001b[38;5;241m.\u001b[39msystem() \u001b[38;5;241m==\u001b[39m \u001b[38;5;124m'\u001b[39m\u001b[38;5;124mWindows\u001b[39m\u001b[38;5;124m'\u001b[39m:\n",
      "\u001b[1;31mNameError\u001b[0m: name 'print_header' is not defined"
     ]
    }
   ],
   "source": [
    "# Додаємо в автозавантаження\n",
    "add_to_autostart()\n"
   ]
  }
 ],
 "metadata": {
  "kernelspec": {
   "display_name": "Python 3",
   "language": "python",
   "name": "python3"
  },
  "language_info": {
   "codemirror_mode": {
    "name": "ipython",
    "version": 3
   },
   "file_extension": ".py",
   "mimetype": "text/x-python",
   "name": "python",
   "nbconvert_exporter": "python",
   "pygments_lexer": "ipython3",
   "version": "3.11.9"
  }
 },
 "nbformat": 4,
 "nbformat_minor": 5
}
