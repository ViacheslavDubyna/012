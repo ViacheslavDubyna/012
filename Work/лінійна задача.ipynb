{
 "cells": [
  {
   "cell_type": "code",
   "execution_count": 1,
   "id": "8b0f4ebe",
   "metadata": {},
   "outputs": [
    {
     "name": "stdout",
     "output_type": "stream",
     "text": [
      "Оптимальний темп стрільби:\n",
      "Зброя A: 0.00 залпів/хв\n",
      "Зброя B: 2.67 залпів/хв\n",
      "Зброя C: 2.42 залпів/хв\n",
      "Максимальна загальна кількість залпів: 23.00\n"
     ]
    }
   ],
   "source": [
    "from scipy.optimize import linprog\n",
    "\n",
    "# Змінні:\n",
    "# x[0] — темп стрільби зброї A (залпів за хвилину)\n",
    "# x[1] — темп стрільби зброї B (залпів за хвилину)\n",
    "# x[2] — темп стрільби зброї C (залпів за хвилину)\n",
    "\n",
    "# Цільова функція — максимізувати загальну кількість залпів:\n",
    "# Зброя A: 3 хв * x[0], B: 5 хв * x[1], C: 4 хв * x[2] — треба мінімізувати від'ємне значення\n",
    "c = [-3, -5, -4]\n",
    "\n",
    "# Матриця обмежень (ліва частина A_ub * x <= b_ub)\n",
    "A = [\n",
    "    [3, 2, 4],    # Загальна кількість залпів у межах 15\n",
    "    [2, 3, 0],    # Обмеження на інший період ≤ 8\n",
    "    [1, 0, -1]    # Різниця A (3 хв) та C (1 хв) ≤ 5\n",
    "]\n",
    "\n",
    "b = [\n",
    "    15,  # загальна кількість залпів\n",
    "    8,   # додаткове обмеження\n",
    "    5    # різниця у вогневій потужності\n",
    "]\n",
    "\n",
    "# Межі змінних (усі значення мають бути ≥ 0)\n",
    "x_bounds = [(0, None), (0, None), (0, None)]\n",
    "\n",
    "# Виконання оптимізації\n",
    "res = linprog(c, A_ub=A, b_ub=b, bounds=x_bounds, method='highs')\n",
    "\n",
    "# Виведення результатів\n",
    "if res.success:\n",
    "    print(\"Оптимальний темп стрільби:\")\n",
    "    print(f\"Зброя A: {res.x[0]:.2f} залпів/хв\")\n",
    "    print(f\"Зброя B: {res.x[1]:.2f} залпів/хв\")\n",
    "    print(f\"Зброя C: {res.x[2]:.2f} залпів/хв\")\n",
    "    print(f\"Максимальна загальна кількість залпів: {-res.fun:.2f}\")\n",
    "else:\n",
    "    print(\"Рішення не знайдено:\", res.message)\n"
   ]
  }
 ],
 "metadata": {
  "kernelspec": {
   "display_name": "Python 3",
   "language": "python",
   "name": "python3"
  },
  "language_info": {
   "codemirror_mode": {
    "name": "ipython",
    "version": 3
   },
   "file_extension": ".py",
   "mimetype": "text/x-python",
   "name": "python",
   "nbconvert_exporter": "python",
   "pygments_lexer": "ipython3",
   "version": "3.11.9"
  }
 },
 "nbformat": 4,
 "nbformat_minor": 5
}
