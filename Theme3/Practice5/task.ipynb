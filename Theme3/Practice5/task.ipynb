# === 1. Required Libraries ===
import pandas as pd
import numpy as np
from sqlalchemy import create_engine, Column, Integer, String, Float, DateTime, ForeignKey
from sqlalchemy.ext.declarative import declarative_base
from sqlalchemy.orm import relationship, sessionmaker
import datetime
import plotly.express as px
import plotly.graph_objects as go
from sklearn.model_selection import train_test_split
from sklearn.preprocessing import StandardScaler
from sklearn.ensemble import RandomForestClassifier
import warnings
warnings.filterwarnings('ignore')

# === 2. Database Setup ===
Base = declarative_base()

# Operational Situation table
class OperationalSituation(Base):
    __tablename__ = 'operational_situation'
    
    id = Column(Integer, primary_key=True)
    timestamp = Column(DateTime, nullable=False)
    location = Column(String, nullable=False)
    status = Column(String, nullable=False)
    threat_level = Column(Integer)
    incidents = relationship("Incident", back_populates="situation")

# Resources table
class Resource(Base):
    __tablename__ = 'resources'
    
    id = Column(Integer, primary_key=True)
    type = Column(String, nullable=False)
    quantity = Column(Integer)
    status = Column(String)
    location = Column(String)
    last_updated = Column(DateTime)

# Incidents table
class Incident(Base):
    __tablename__ = 'incidents'
    
    id = Column(Integer, primary_key=True)
    situation_id = Column(Integer, ForeignKey('operational_situation.id'))
    type = Column(String, nullable=False)
    description = Column(String)
    timestamp = Column(DateTime)
    severity = Column(Integer)
    situation = relationship("OperationalSituation", back_populates="incidents")

# === 3. Data Generation Functions ===
def generate_sample_data(n_samples=100):
    """Generate sample data for testing"""
    situations = []
    resources = []
    incidents = []
    
    locations = ['North', 'South', 'East', 'West']
    statuses = ['Normal', 'Alert', 'Critical']
    resource_types = ['Personnel', 'Vehicles', 'Ammunition']
    incident_types = ['Attack', 'Movement', 'Supply']
    
    for i in range(n_samples):
        # Generate situations
        situation = {
            'timestamp': datetime.datetime.now() - datetime.timedelta(hours=i),
            'location': np.random.choice(locations),
            'status': np.random.choice(statuses),
            'threat_level': np.random.randint(1, 6)
        }
        situations.append(situation)
        
        # Generate resources
        resource = {
            'type': np.random.choice(resource_types),
            'quantity': np.random.randint(10, 1000),
            'status': np.random.choice(['Available', 'Deployed', 'Maintenance']),
            'location': np.random.choice(locations),
            'last_updated': datetime.datetime.now() - datetime.timedelta(hours=i)
        }
        resources.append(resource)
        
        # Generate incidents
        incident = {
            'type': np.random.choice(incident_types),
            'description': f"Sample incident {i}",
            'timestamp': datetime.datetime.now() - datetime.timedelta(hours=i),
            'severity': np.random.randint(1, 6)
        }
        incidents.append(incident)
    
    return pd.DataFrame(situations), pd.DataFrame(resources), pd.DataFrame(incidents)

# === 4. AI Model Functions ===
def prepare_data_for_prediction(situations_df, incidents_df):
    """Prepare data for the AI model"""
    # Combine situations and incidents data
    df = situations_df.copy()
    df['hour'] = df['timestamp'].dt.hour
    df['threat_binary'] = (df['threat_level'] > 3).astype(int)
    
    # Create features
    X = pd.get_dummies(df[['hour', 'location', 'status']], columns=['location', 'status'])
    y = df['threat_binary']
    
    return train_test_split(X, y, test_size=0.2, random_state=42)

def train_threat_prediction_model(X_train, y_train):
    """Train a Random Forest model for threat prediction"""
    model = RandomForestClassifier(n_estimators=100, random_state=42)
    model.fit(X_train, y_train)
    return model

# === 5. Visualization Functions ===
def create_situation_dashboard(situations_df, resources_df, incidents_df):
    """Create a dashboard with Plotly"""
    # Threat level over time
    fig1 = px.line(situations_df, x='timestamp', y='threat_level', 
                   title='Threat Level Over Time')
    
    # Resource distribution
    fig2 = px.bar(resources_df, x='type', y='quantity', 
                  title='Resource Distribution')
    
    # Incident severity by type
    fig3 = px.box(incidents_df, x='type', y='severity', 
                  title='Incident Severity by Type')
    
    return fig1, fig2, fig3

# === 6. Main Execution ===
if __name__ == "__main__":
    # Generate sample data
    situations_df, resources_df, incidents_df = generate_sample_data()
    
    # Prepare and train AI model
    X_train, X_test, y_train, y_test = prepare_data_for_prediction(situations_df, incidents_df)
    model = train_threat_prediction_model(X_train, y_train)
    
    # Create visualizations
    fig1, fig2, fig3 = create_situation_dashboard(situations_df, resources_df, incidents_df)
    
    # Display results
    print("Data Generation Complete")
    print("\nSample Situations:")
    print(situations_df.head())
    print("\nModel Accuracy:", model.score(X_test, y_test))
    
    # Show plots
    fig1.show()
    fig2.show()
    fig3.show()
