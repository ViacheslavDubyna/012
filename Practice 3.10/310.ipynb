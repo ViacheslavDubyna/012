{
 "cells": [
  {
   "cell_type": "code",
   "execution_count": 1,
   "id": "f3ec7101",
   "metadata": {},
   "outputs": [
    {
     "ename": "ModuleNotFoundError",
     "evalue": "No module named 'cv2'",
     "output_type": "error",
     "traceback": [
      "\u001b[1;31m---------------------------------------------------------------------------\u001b[0m",
      "\u001b[1;31mModuleNotFoundError\u001b[0m                       Traceback (most recent call last)",
      "Cell \u001b[1;32mIn[1], line 1\u001b[0m\n\u001b[1;32m----> 1\u001b[0m \u001b[38;5;28;01mimport\u001b[39;00m \u001b[38;5;21;01mcv2\u001b[39;00m\n\u001b[0;32m      3\u001b[0m \u001b[38;5;66;03m# Завантаження зображення\u001b[39;00m\n\u001b[0;32m      4\u001b[0m image \u001b[38;5;241m=\u001b[39m cv2\u001b[38;5;241m.\u001b[39mimread(\u001b[38;5;124m\"\u001b[39m\u001b[38;5;124mtest_image.jpg\u001b[39m\u001b[38;5;124m\"\u001b[39m)\n",
      "\u001b[1;31mModuleNotFoundError\u001b[0m: No module named 'cv2'"
     ]
    }
   ],
   "source": [
    "import cv2\n",
    "\n",
    "# Завантаження зображення\n",
    "image = cv2.imread(\"test_image.jpg\")\n",
    "\n",
    "# Відображення\n",
    "cv2.imshow(\"Original Image\", image)\n",
    "cv2.waitKey(0)\n",
    "cv2.destroyAllWindows()"
   ]
  },
  {
   "cell_type": "code",
   "execution_count": 2,
   "id": "31fbd9b8",
   "metadata": {},
   "outputs": [
    {
     "name": "stdout",
     "output_type": "stream",
     "text": [
      "Collecting opencv-python\n",
      "  Downloading opencv_python-4.11.0.86-cp37-abi3-win_amd64.whl.metadata (20 kB)\n",
      "Requirement already satisfied: numpy>=1.21.2 in c:\\users\\tz\\appdata\\local\\packages\\pythonsoftwarefoundation.python.3.11_qbz5n2kfra8p0\\localcache\\local-packages\\python311\\site-packages (from opencv-python) (1.26.0)\n",
      "Downloading opencv_python-4.11.0.86-cp37-abi3-win_amd64.whl (39.5 MB)\n",
      "   ---------------------------------------- 0.0/39.5 MB ? eta -:--:--\n",
      "   ---------------------------------------- 0.0/39.5 MB ? eta -:--:--\n",
      "   ---------------------------------------- 0.3/39.5 MB ? eta -:--:--\n",
      "   - -------------------------------------- 1.0/39.5 MB 2.8 MB/s eta 0:00:14\n",
      "   - -------------------------------------- 1.6/39.5 MB 3.0 MB/s eta 0:00:13\n",
      "   -- ------------------------------------- 2.6/39.5 MB 3.3 MB/s eta 0:00:12\n",
      "   --- ------------------------------------ 3.7/39.5 MB 3.5 MB/s eta 0:00:11\n",
      "   ---- ----------------------------------- 4.5/39.5 MB 3.6 MB/s eta 0:00:10\n",
      "   ----- ---------------------------------- 5.5/39.5 MB 3.8 MB/s eta 0:00:10\n",
      "   ------ --------------------------------- 6.3/39.5 MB 3.7 MB/s eta 0:00:10\n",
      "   ------- -------------------------------- 7.3/39.5 MB 3.8 MB/s eta 0:00:09\n",
      "   -------- ------------------------------- 8.1/39.5 MB 3.7 MB/s eta 0:00:09\n",
      "   --------- ------------------------------ 8.9/39.5 MB 3.8 MB/s eta 0:00:09\n",
      "   ---------- ----------------------------- 10.0/39.5 MB 3.8 MB/s eta 0:00:08\n",
      "   ---------- ----------------------------- 10.7/39.5 MB 3.9 MB/s eta 0:00:08\n",
      "   ----------- ---------------------------- 11.8/39.5 MB 3.9 MB/s eta 0:00:08\n",
      "   ------------ --------------------------- 12.6/39.5 MB 3.9 MB/s eta 0:00:07\n",
      "   ------------- -------------------------- 13.6/39.5 MB 4.0 MB/s eta 0:00:07\n",
      "   -------------- ------------------------- 14.7/39.5 MB 4.0 MB/s eta 0:00:07\n",
      "   --------------- ------------------------ 15.7/39.5 MB 4.0 MB/s eta 0:00:06\n",
      "   ---------------- ----------------------- 16.3/39.5 MB 4.0 MB/s eta 0:00:06\n",
      "   ---------------- ----------------------- 16.5/39.5 MB 3.8 MB/s eta 0:00:07\n",
      "   ------------------ --------------------- 18.6/39.5 MB 4.1 MB/s eta 0:00:06\n",
      "   ------------------- -------------------- 19.7/39.5 MB 4.1 MB/s eta 0:00:05\n",
      "   -------------------- ------------------- 20.4/39.5 MB 4.1 MB/s eta 0:00:05\n",
      "   --------------------- ------------------ 21.5/39.5 MB 4.1 MB/s eta 0:00:05\n",
      "   ---------------------- ----------------- 22.5/39.5 MB 4.2 MB/s eta 0:00:05\n",
      "   ----------------------- ---------------- 23.6/39.5 MB 4.2 MB/s eta 0:00:04\n",
      "   ------------------------ --------------- 24.6/39.5 MB 4.2 MB/s eta 0:00:04\n",
      "   -------------------------- ------------- 25.7/39.5 MB 4.2 MB/s eta 0:00:04\n",
      "   --------------------------- ------------ 27.0/39.5 MB 4.3 MB/s eta 0:00:03\n",
      "   ---------------------------- ----------- 27.8/39.5 MB 4.3 MB/s eta 0:00:03\n",
      "   ---------------------------- ----------- 28.3/39.5 MB 4.3 MB/s eta 0:00:03\n",
      "   ------------------------------ --------- 29.6/39.5 MB 4.3 MB/s eta 0:00:03\n",
      "   ------------------------------- -------- 30.7/39.5 MB 4.3 MB/s eta 0:00:03\n",
      "   ------------------------------- -------- 31.5/39.5 MB 4.3 MB/s eta 0:00:02\n",
      "   ------------------------------- -------- 31.5/39.5 MB 4.3 MB/s eta 0:00:02\n",
      "   ------------------------------- -------- 31.5/39.5 MB 4.3 MB/s eta 0:00:02\n",
      "   -------------------------------- ------- 31.7/39.5 MB 3.9 MB/s eta 0:00:02\n",
      "   --------------------------------- ------ 32.8/39.5 MB 3.9 MB/s eta 0:00:02\n",
      "   --------------------------------- ------ 33.3/39.5 MB 3.9 MB/s eta 0:00:02\n",
      "   ---------------------------------- ----- 34.3/39.5 MB 3.9 MB/s eta 0:00:02\n",
      "   ----------------------------------- ---- 35.1/39.5 MB 3.9 MB/s eta 0:00:02\n",
      "   ------------------------------------ --- 36.4/39.5 MB 3.9 MB/s eta 0:00:01\n",
      "   ------------------------------------- -- 37.2/39.5 MB 3.9 MB/s eta 0:00:01\n",
      "   -------------------------------------- - 38.0/39.5 MB 3.9 MB/s eta 0:00:01\n",
      "   ---------------------------------------  38.5/39.5 MB 3.9 MB/s eta 0:00:01\n",
      "   ---------------------------------------  39.3/39.5 MB 3.9 MB/s eta 0:00:01\n",
      "   ---------------------------------------  39.3/39.5 MB 3.9 MB/s eta 0:00:01\n",
      "   ---------------------------------------- 39.5/39.5 MB 3.8 MB/s eta 0:00:00\n",
      "Installing collected packages: opencv-python\n",
      "Successfully installed opencv-python-4.11.0.86\n",
      "Note: you may need to restart the kernel to use updated packages.\n"
     ]
    }
   ],
   "source": [
    "%pip install opencv-python\n"
   ]
  },
  {
   "cell_type": "code",
   "execution_count": 3,
   "id": "674a828a",
   "metadata": {},
   "outputs": [
    {
     "name": "stdout",
     "output_type": "stream",
     "text": [
      "Requirement already satisfied: opencv-python in c:\\users\\tz\\appdata\\local\\packages\\pythonsoftwarefoundation.python.3.11_qbz5n2kfra8p0\\localcache\\local-packages\\python311\\site-packages (4.11.0.86)\n",
      "Collecting opencv-contrib-python\n",
      "  Downloading opencv_contrib_python-4.11.0.86-cp37-abi3-win_amd64.whl.metadata (20 kB)\n",
      "Requirement already satisfied: numpy>=1.21.2 in c:\\users\\tz\\appdata\\local\\packages\\pythonsoftwarefoundation.python.3.11_qbz5n2kfra8p0\\localcache\\local-packages\\python311\\site-packages (from opencv-python) (1.26.0)\n",
      "Downloading opencv_contrib_python-4.11.0.86-cp37-abi3-win_amd64.whl (46.2 MB)\n",
      "   ---------------------------------------- 0.0/46.2 MB ? eta -:--:--\n",
      "   ---------------------------------------- 0.0/46.2 MB ? eta -:--:--\n",
      "   ---------------------------------------- 0.5/46.2 MB 5.6 MB/s eta 0:00:09\n",
      "   - -------------------------------------- 1.6/46.2 MB 3.8 MB/s eta 0:00:12\n",
      "   - -------------------------------------- 2.1/46.2 MB 3.3 MB/s eta 0:00:14\n",
      "   -- ------------------------------------- 3.1/46.2 MB 3.5 MB/s eta 0:00:13\n",
      "   --- ------------------------------------ 3.9/46.2 MB 3.7 MB/s eta 0:00:12\n",
      "   ---- ----------------------------------- 4.7/46.2 MB 3.4 MB/s eta 0:00:13\n",
      "   ---- ----------------------------------- 5.8/46.2 MB 3.4 MB/s eta 0:00:12\n",
      "   ----- ---------------------------------- 6.6/46.2 MB 3.3 MB/s eta 0:00:13\n",
      "   ------ --------------------------------- 7.6/46.2 MB 3.3 MB/s eta 0:00:12\n",
      "   ------- -------------------------------- 8.4/46.2 MB 3.4 MB/s eta 0:00:12\n",
      "   ------- -------------------------------- 9.2/46.2 MB 3.4 MB/s eta 0:00:11\n",
      "   -------- ------------------------------- 10.0/46.2 MB 3.4 MB/s eta 0:00:11\n",
      "   --------- ------------------------------ 10.5/46.2 MB 3.3 MB/s eta 0:00:11\n",
      "   ---------- ----------------------------- 11.8/46.2 MB 3.5 MB/s eta 0:00:10\n",
      "   ----------- ---------------------------- 12.8/46.2 MB 3.6 MB/s eta 0:00:10\n",
      "   ------------ --------------------------- 13.9/46.2 MB 3.6 MB/s eta 0:00:09\n",
      "   ------------ --------------------------- 14.7/46.2 MB 3.6 MB/s eta 0:00:09\n",
      "   ------------- -------------------------- 15.5/46.2 MB 3.6 MB/s eta 0:00:09\n",
      "   -------------- ------------------------- 16.5/46.2 MB 3.7 MB/s eta 0:00:09\n",
      "   -------------- ------------------------- 16.8/46.2 MB 3.7 MB/s eta 0:00:09\n",
      "   --------------- ------------------------ 18.1/46.2 MB 3.6 MB/s eta 0:00:08\n",
      "   ---------------- ----------------------- 19.1/46.2 MB 3.7 MB/s eta 0:00:08\n",
      "   ----------------- ---------------------- 20.4/46.2 MB 3.7 MB/s eta 0:00:07\n",
      "   ------------------ --------------------- 21.0/46.2 MB 3.7 MB/s eta 0:00:07\n",
      "   ------------------- -------------------- 22.0/46.2 MB 3.7 MB/s eta 0:00:07\n",
      "   ------------------- -------------------- 23.1/46.2 MB 3.7 MB/s eta 0:00:07\n",
      "   -------------------- ------------------- 23.6/46.2 MB 3.7 MB/s eta 0:00:07\n",
      "   --------------------- ------------------ 24.9/46.2 MB 3.7 MB/s eta 0:00:06\n",
      "   ---------------------- ----------------- 26.0/46.2 MB 3.8 MB/s eta 0:00:06\n",
      "   ---------------------- ----------------- 26.5/46.2 MB 3.7 MB/s eta 0:00:06\n",
      "   ----------------------- ---------------- 27.0/46.2 MB 3.7 MB/s eta 0:00:06\n",
      "   ------------------------ --------------- 28.3/46.2 MB 3.8 MB/s eta 0:00:05\n",
      "   ------------------------- -------------- 29.4/46.2 MB 3.8 MB/s eta 0:00:05\n",
      "   -------------------------- ------------- 30.9/46.2 MB 3.9 MB/s eta 0:00:04\n",
      "   --------------------------- ------------ 31.2/46.2 MB 3.8 MB/s eta 0:00:04\n",
      "   --------------------------- ------------ 32.2/46.2 MB 3.8 MB/s eta 0:00:04\n",
      "   ---------------------------- ----------- 33.0/46.2 MB 3.8 MB/s eta 0:00:04\n",
      "   ----------------------------- ---------- 34.1/46.2 MB 3.8 MB/s eta 0:00:04\n",
      "   ------------------------------ --------- 35.4/46.2 MB 3.9 MB/s eta 0:00:03\n",
      "   ------------------------------- -------- 36.2/46.2 MB 3.9 MB/s eta 0:00:03\n",
      "   -------------------------------- ------- 37.2/46.2 MB 3.9 MB/s eta 0:00:03\n",
      "   -------------------------------- ------- 38.0/46.2 MB 3.9 MB/s eta 0:00:03\n",
      "   --------------------------------- ------ 38.8/46.2 MB 3.9 MB/s eta 0:00:02\n",
      "   ---------------------------------- ----- 39.8/46.2 MB 3.9 MB/s eta 0:00:02\n",
      "   ----------------------------------- ---- 40.6/46.2 MB 3.9 MB/s eta 0:00:02\n",
      "   ------------------------------------ --- 41.9/46.2 MB 3.9 MB/s eta 0:00:02\n",
      "   ------------------------------------- -- 42.7/46.2 MB 3.9 MB/s eta 0:00:01\n",
      "   ------------------------------------- -- 43.8/46.2 MB 3.9 MB/s eta 0:00:01\n",
      "   -------------------------------------- - 44.8/46.2 MB 3.9 MB/s eta 0:00:01\n",
      "   ---------------------------------------  45.6/46.2 MB 3.9 MB/s eta 0:00:01\n",
      "   ---------------------------------------  46.1/46.2 MB 3.9 MB/s eta 0:00:01\n",
      "   ---------------------------------------  46.1/46.2 MB 3.9 MB/s eta 0:00:01\n",
      "   ---------------------------------------- 46.2/46.2 MB 3.7 MB/s eta 0:00:00\n",
      "Installing collected packages: opencv-contrib-python\n",
      "Successfully installed opencv-contrib-python-4.11.0.86\n",
      "Note: you may need to restart the kernel to use updated packages.\n"
     ]
    }
   ],
   "source": [
    "%pip install opencv-python opencv-contrib-python\n"
   ]
  },
  {
   "cell_type": "code",
   "execution_count": 4,
   "id": "ce84f9f3",
   "metadata": {},
   "outputs": [
    {
     "ename": "error",
     "evalue": "OpenCV(4.11.0) D:\\a\\opencv-python\\opencv-python\\opencv\\modules\\highgui\\src\\window.cpp:973: error: (-215:Assertion failed) size.width>0 && size.height>0 in function 'cv::imshow'\n",
     "output_type": "error",
     "traceback": [
      "\u001b[1;31m---------------------------------------------------------------------------\u001b[0m",
      "\u001b[1;31merror\u001b[0m                                     Traceback (most recent call last)",
      "Cell \u001b[1;32mIn[4], line 7\u001b[0m\n\u001b[0;32m      4\u001b[0m image \u001b[38;5;241m=\u001b[39m cv2\u001b[38;5;241m.\u001b[39mimread(\u001b[38;5;124m\"\u001b[39m\u001b[38;5;124mtest_image.jpg\u001b[39m\u001b[38;5;124m\"\u001b[39m)\n\u001b[0;32m      6\u001b[0m \u001b[38;5;66;03m# Відображення\u001b[39;00m\n\u001b[1;32m----> 7\u001b[0m \u001b[43mcv2\u001b[49m\u001b[38;5;241;43m.\u001b[39;49m\u001b[43mimshow\u001b[49m\u001b[43m(\u001b[49m\u001b[38;5;124;43m\"\u001b[39;49m\u001b[38;5;124;43mOriginal Image\u001b[39;49m\u001b[38;5;124;43m\"\u001b[39;49m\u001b[43m,\u001b[49m\u001b[43m \u001b[49m\u001b[43mimage\u001b[49m\u001b[43m)\u001b[49m\n\u001b[0;32m      8\u001b[0m cv2\u001b[38;5;241m.\u001b[39mwaitKey(\u001b[38;5;241m0\u001b[39m)\n\u001b[0;32m      9\u001b[0m cv2\u001b[38;5;241m.\u001b[39mdestroyAllWindows()\n",
      "\u001b[1;31merror\u001b[0m: OpenCV(4.11.0) D:\\a\\opencv-python\\opencv-python\\opencv\\modules\\highgui\\src\\window.cpp:973: error: (-215:Assertion failed) size.width>0 && size.height>0 in function 'cv::imshow'\n"
     ]
    }
   ],
   "source": [
    "import cv2\n",
    "\n",
    "# Завантаження зображення\n",
    "image = cv2.imread(\"test_image.jpg\")\n",
    "\n",
    "# Відображення\n",
    "cv2.imshow(\"Original Image\", image)\n",
    "cv2.waitKey(0)\n",
    "cv2.destroyAllWindows()"
   ]
  },
  {
   "cell_type": "code",
   "execution_count": 5,
   "id": "94e9a5e4",
   "metadata": {},
   "outputs": [],
   "source": [
    "image = cv2.imread(\"C:/Users/YourName/Desktop/test_image.jpg\")\n"
   ]
  },
  {
   "cell_type": "code",
   "execution_count": 7,
   "id": "d261519c",
   "metadata": {},
   "outputs": [
    {
     "name": "stdout",
     "output_type": "stream",
     "text": [
      "Помилка: зображення не знайдено. Перевір шлях до файлу!\n"
     ]
    }
   ],
   "source": [
    "import cv2\n",
    "\n",
    "image = cv2.imread(\"test_image.jpg\")\n",
    "\n",
    "if image is None:\n",
    "    print(\"Помилка: зображення не знайдено. Перевір шлях до файлу!\")\n",
    "else:\n",
    "    cv2.imshow(\"Original Image\", image)\n",
    "    cv2.waitKey(0)\n",
    "    cv2.destroyAllWindows()\n"
   ]
  },
  {
   "cell_type": "code",
   "execution_count": 8,
   "id": "464edfac",
   "metadata": {},
   "outputs": [
    {
     "ename": "error",
     "evalue": "OpenCV(4.11.0) D:\\a\\opencv-python\\opencv-python\\opencv\\modules\\imgproc\\src\\color.cpp:199: error: (-215:Assertion failed) !_src.empty() in function 'cv::cvtColor'\n",
     "output_type": "error",
     "traceback": [
      "\u001b[1;31m---------------------------------------------------------------------------\u001b[0m",
      "\u001b[1;31merror\u001b[0m                                     Traceback (most recent call last)",
      "Cell \u001b[1;32mIn[8], line 2\u001b[0m\n\u001b[0;32m      1\u001b[0m \u001b[38;5;66;03m# Перетворення у відтінки сірого\u001b[39;00m\n\u001b[1;32m----> 2\u001b[0m gray \u001b[38;5;241m=\u001b[39m \u001b[43mcv2\u001b[49m\u001b[38;5;241;43m.\u001b[39;49m\u001b[43mcvtColor\u001b[49m\u001b[43m(\u001b[49m\u001b[43mimage\u001b[49m\u001b[43m,\u001b[49m\u001b[43m \u001b[49m\u001b[43mcv2\u001b[49m\u001b[38;5;241;43m.\u001b[39;49m\u001b[43mCOLOR_BGR2GRAY\u001b[49m\u001b[43m)\u001b[49m\n\u001b[0;32m      4\u001b[0m \u001b[38;5;66;03m# Зміна розміру\u001b[39;00m\n\u001b[0;32m      5\u001b[0m resized \u001b[38;5;241m=\u001b[39m cv2\u001b[38;5;241m.\u001b[39mresize(gray, (\u001b[38;5;241m128\u001b[39m, \u001b[38;5;241m128\u001b[39m))\n",
      "\u001b[1;31merror\u001b[0m: OpenCV(4.11.0) D:\\a\\opencv-python\\opencv-python\\opencv\\modules\\imgproc\\src\\color.cpp:199: error: (-215:Assertion failed) !_src.empty() in function 'cv::cvtColor'\n"
     ]
    }
   ],
   "source": [
    "# Перетворення у відтінки сірого\n",
    "gray = cv2.cvtColor(image, cv2.COLOR_BGR2GRAY)\n",
    "\n",
    "# Зміна розміру\n",
    "resized = cv2.resize(gray, (128, 128))\n",
    "\n",
    "# Застосування розмиття (Gaussian Blur)\n",
    "blurred = cv2.GaussianBlur(resized, (5, 5), 0)\n",
    "\n",
    "# Відображення результатів\n",
    "cv2.imshow(\"Gray Image\", gray)\n",
    "cv2.imshow(\"Resized Image\", resized)\n",
    "cv2.imshow(\"Blurred Image\", blurred)\n",
    "cv2.waitKey(0)\n",
    "cv2.destroyAllWindows()"
   ]
  },
  {
   "cell_type": "code",
   "execution_count": 9,
   "id": "bd9189c3",
   "metadata": {},
   "outputs": [
    {
     "ename": "SyntaxError",
     "evalue": "invalid syntax (814111868.py, line 1)",
     "output_type": "error",
     "traceback": [
      "\u001b[1;36m  Cell \u001b[1;32mIn[9], line 1\u001b[1;36m\u001b[0m\n\u001b[1;33m    C:/Users/Public/Pictures/Sample Pictures/Desert.jpg\u001b[0m\n\u001b[1;37m      ^\u001b[0m\n\u001b[1;31mSyntaxError\u001b[0m\u001b[1;31m:\u001b[0m invalid syntax\n"
     ]
    }
   ],
   "source": [
    "C:/Users/Public/Pictures/Sample Pictures/Desert.jpg\n"
   ]
  },
  {
   "cell_type": "code",
   "execution_count": 11,
   "id": "eb14b021",
   "metadata": {},
   "outputs": [
    {
     "ename": "SyntaxError",
     "evalue": "(unicode error) 'unicodeescape' codec can't decode bytes in position 2-3: truncated \\UXXXXXXXX escape (262957685.py, line 4)",
     "output_type": "error",
     "traceback": [
      "\u001b[1;36m  Cell \u001b[1;32mIn[11], line 4\u001b[1;36m\u001b[0m\n\u001b[1;33m    image_path = \"C:\\Users\\TZ\\Desktop\\Форд фото\\ford_fusion__557662620f.webp\"\u001b[0m\n\u001b[1;37m                                                                             ^\u001b[0m\n\u001b[1;31mSyntaxError\u001b[0m\u001b[1;31m:\u001b[0m (unicode error) 'unicodeescape' codec can't decode bytes in position 2-3: truncated \\UXXXXXXXX escape\n"
     ]
    }
   ],
   "source": [
    "import cv2\n",
    "\n",
    "# Шлях до зображення\n",
    "image_path = \"C:\\Users\\TZ\\Desktop\\Форд фото\\ford_fusion__557662620f.webp\"\n",
    "\n",
    "# Завантаження зображення\n",
    "image = cv2.imread(image_path)\n",
    "\n",
    "# Перевірка чи зображення завантажено\n",
    "if image is None:\n",
    "    print(f\"Помилка: файл {image_path} не знайдено або не вдалося відкрити.\")\n",
    "else:\n",
    "    # Перетворення у відтінки сірого\n",
    "    gray = cv2.cvtColor(image, cv2.COLOR_BGR2GRAY)\n",
    "\n",
    "    # Зміна розміру до 128x128\n",
    "    resized = cv2.resize(gray, (128, 128))\n",
    "\n",
    "    # Відображення зображення\n",
    "    cv2.imshow(\"Відтінки сірого (128x128)\", resized)\n",
    "    cv2.waitKey(0)\n",
    "    cv2.destroyAllWindows()\n"
   ]
  },
  {
   "cell_type": "code",
   "execution_count": 13,
   "id": "916732d3",
   "metadata": {},
   "outputs": [
    {
     "ename": "SyntaxError",
     "evalue": "(unicode error) 'unicodeescape' codec can't decode bytes in position 2-3: truncated \\UXXXXXXXX escape (1963599584.py, line 4)",
     "output_type": "error",
     "traceback": [
      "\u001b[1;36m  Cell \u001b[1;32mIn[13], line 4\u001b[1;36m\u001b[0m\n\u001b[1;33m    image_path = \"C:\\Users\\TZ\\Desktop\\Форд фото\\Зображення WhatsApp, дата_ 2025-01-07 о 16.53.52_6a120678.jpg\"\u001b[0m\n\u001b[1;37m                                                                                                              ^\u001b[0m\n\u001b[1;31mSyntaxError\u001b[0m\u001b[1;31m:\u001b[0m (unicode error) 'unicodeescape' codec can't decode bytes in position 2-3: truncated \\UXXXXXXXX escape\n"
     ]
    }
   ],
   "source": [
    "import cv2\n",
    "\n",
    "# Шлях до зображення (користуємо подвійні зворотні слеші або прямі)\n",
    "image_path = \"C:\\Users\\TZ\\Desktop\\Форд фото\\Зображення WhatsApp, дата_ 2025-01-07 о 16.53.52_6a120678.jpg\"\n",
    "\n",
    "# Завантаження зображення\n",
    "image = cv2.imread(image_path)\n",
    "\n",
    "# Перевірка чи зображення завантажено\n",
    "if image is None:\n",
    "    print(f\"Помилка: файл {image_path} не знайдено або не вдалося відкрити.\")\n",
    "else:\n",
    "    # Перетворення у відтінки сірого\n",
    "    gray = cv2.cvtColor(image, cv2.COLOR_BGR2GRAY)\n",
    "\n",
    "    # Зміна розміру до 128x128\n",
    "    resized = cv2.resize(gray, (128, 128))\n",
    "\n",
    "    # Відображення зображення\n",
    "    cv2.imshow(\"Відтінки сірого (128x128)\", resized)\n",
    "    cv2.waitKey(0)\n",
    "    cv2.destroyAllWindows()\n"
   ]
  },
  {
   "cell_type": "code",
   "execution_count": 20,
   "id": "7af1d5ee",
   "metadata": {},
   "outputs": [
    {
     "ename": "SyntaxError",
     "evalue": "(unicode error) 'unicodeescape' codec can't decode bytes in position 2-3: truncated \\UXXXXXXXX escape (940368343.py, line 4)",
     "output_type": "error",
     "traceback": [
      "\u001b[1;36m  Cell \u001b[1;32mIn[20], line 4\u001b[1;36m\u001b[0m\n\u001b[1;33m    image_path = \"C:\\Users\\TZ\\Desktop\\43554.png\"\u001b[0m\n\u001b[1;37m                                                ^\u001b[0m\n\u001b[1;31mSyntaxError\u001b[0m\u001b[1;31m:\u001b[0m (unicode error) 'unicodeescape' codec can't decode bytes in position 2-3: truncated \\UXXXXXXXX escape\n"
     ]
    }
   ],
   "source": [
    "import cv2\n",
    "\n",
    "# Шлях до зображення (користуємо подвійні зворотні слеші або прямі)\n",
    "image_path = \"C:\\Users\\TZ\\Desktop\\43554.png\"\n",
    "\n",
    "# Завантаження зображення\n",
    "image = cv2.imread(image_path)\n",
    "\n",
    "# Перевірка чи зображення завантажено\n",
    "if image is None:\n",
    "    print(f\"Помилка: файл {image_path} не знайдено або не вдалося відкрити.\")\n",
    "else:\n",
    "    # Перетворення у відтінки сірого\n",
    "    gray = cv2.cvtColor(image, cv2.COLOR_BGR2GRAY)\n",
    "\n",
    "    # Зміна розміру до 128x128\n",
    "    resized = cv2.resize(gray, (128, 128))\n",
    "\n",
    "    # Відображення зображення\n",
    "    cv2.imshow(\"Відтінки сірого (128x128)\", resized)\n",
    "    cv2.waitKey(0)\n",
    "    cv2.destroyAllWindows()\n"
   ]
  },
  {
   "cell_type": "code",
   "execution_count": 21,
   "id": "480df951",
   "metadata": {},
   "outputs": [
    {
     "ename": "SyntaxError",
     "evalue": "(unicode error) 'unicodeescape' codec can't decode bytes in position 2-3: truncated \\UXXXXXXXX escape (2822446307.py, line 1)",
     "output_type": "error",
     "traceback": [
      "\u001b[1;36m  Cell \u001b[1;32mIn[21], line 1\u001b[1;36m\u001b[0m\n\u001b[1;33m    image = cv2.imread(\"C:\\Users\\TZ\\Desktop\\ford_fusion__557662619f.webp\")\u001b[0m\n\u001b[1;37m                                                                         ^\u001b[0m\n\u001b[1;31mSyntaxError\u001b[0m\u001b[1;31m:\u001b[0m (unicode error) 'unicodeescape' codec can't decode bytes in position 2-3: truncated \\UXXXXXXXX escape\n"
     ]
    }
   ],
   "source": [
    "image = cv2.imread(\"C:\\Users\\TZ\\Desktop\\ford_fusion__557662619f.webp\")\n",
    "\n",
    "# Відображення\n",
    "cv2.imshow(\"OC:\\Users\\TZ\\Desktop\\ford_fusion__557662619f.webp\", image)\n",
    "cv2.waitKey(0)\n",
    "cv2.destroyAllWindows()"
   ]
  },
  {
   "cell_type": "code",
   "execution_count": 56,
   "id": "f6958ad8",
   "metadata": {},
   "outputs": [],
   "source": [
    "import cv2\n",
    "\n",
    "# Шлях до зображення (користуємо подвійні зворотні слеші або прямі)\n",
    "image_path = \"Apolo1.jpg\"\n",
    "\n",
    "# Завантаження зображення\n",
    "image = cv2.imread(image_path)\n",
    "\n",
    "# Перевірка, чи зображення завантажено\n",
    "if image is None:\n",
    "    print(f\"Помилка: файл {image_path} не знайдено або не вдалося відкрити.\")\n",
    "else:\n",
    "    # Відображення зображення\n",
    "    cv2.imshow(\"Зображення\", image)\n",
    "    cv2.waitKey(0)\n",
    "    cv2.destroyAllWindows()\n"
   ]
  },
  {
   "cell_type": "code",
   "execution_count": 57,
   "id": "d263bed6",
   "metadata": {},
   "outputs": [],
   "source": [
    "# Перетворення у відтінки сірого\n",
    "gray = cv2.cvtColor(image, cv2.COLOR_BGR2GRAY)\n",
    "\n",
    "# Зміна розміру\n",
    "resized = cv2.resize(gray, (128, 128))\n",
    "\n",
    "# Застосування розмиття (Gaussian Blur)\n",
    "blurred = cv2.GaussianBlur(resized, (5, 5), 0)\n",
    "\n",
    "# Відображення результатів\n",
    "cv2.imshow(\"Gray Image\", gray)\n",
    "cv2.imshow(\"Resized Image\", resized)\n",
    "cv2.imshow(\"Blurred Image\", blurred)\n",
    "cv2.waitKey(0)\n",
    "cv2.destroyAllWindows()\n"
   ]
  },
  {
   "cell_type": "code",
   "execution_count": 58,
   "id": "69a9d541",
   "metadata": {},
   "outputs": [],
   "source": [
    "edges = cv2.Canny(gray, 50, 150)\n",
    "\n",
    "cv2.imshow(\"Edges\", edges)\n",
    "cv2.waitKey(0)\n",
    "cv2.destroyAllWindows()"
   ]
  },
  {
   "cell_type": "code",
   "execution_count": 60,
   "id": "07740bef",
   "metadata": {},
   "outputs": [],
   "source": [
    "# Завантаження попередньо натренованого каскаду\n",
    "face_cascade = cv2.CascadeClassifier(cv2.data.haarcascades + \"haarcascade_frontalface_default.xml\")\n",
    "\n",
    "# Виявлення облич\n",
    "faces = face_cascade.detectMultiScale(gray, scaleFactor=1.1, minNeighbors=5, minSize=(30, 30))\n",
    "\n",
    "# Нанесення рамок на зображення\n",
    "for (x, y, w, h) in faces:\n",
    "    cv2.rectangle(image, (x, y), (x + w, y + h), (255, 0, 0), 2)\n",
    "\n",
    "cv2.imshow(\"Detected Faces\", image)\n",
    "cv2.waitKey(0)\n",
    "cv2.destroyAllWindows()"
   ]
  },
  {
   "cell_type": "code",
   "execution_count": 61,
   "id": "70320d16",
   "metadata": {},
   "outputs": [],
   "source": [
    "import tensorflow as tf\n",
    "from tensorflow.keras.models import Sequential\n",
    "from tensorflow.keras.layers import Conv2D, MaxPooling2D, Flatten, Dense\n",
    "from tensorflow.keras.datasets import mnist\n",
    "from tensorflow.keras.utils import to_categorical"
   ]
  },
  {
   "cell_type": "code",
   "execution_count": 62,
   "id": "a4d24e9f",
   "metadata": {},
   "outputs": [
    {
     "name": "stdout",
     "output_type": "stream",
     "text": [
      "Downloading data from https://storage.googleapis.com/tensorflow/tf-keras-datasets/mnist.npz\n",
      "11490434/11490434 [==============================] - 3s 0us/step\n"
     ]
    }
   ],
   "source": [
    "(X_train, y_train), (X_test, y_test) = mnist.load_data()"
   ]
  },
  {
   "cell_type": "code",
   "execution_count": 63,
   "id": "fce3eb70",
   "metadata": {},
   "outputs": [],
   "source": [
    "X_train = X_train.reshape(-1, 28, 28, 1) / 255.0\n",
    "X_test = X_test.reshape(-1, 28, 28, 1) / 255.0\n",
    "y_train = to_categorical(y_train)\n",
    "y_test = to_categorical(y_test)"
   ]
  },
  {
   "cell_type": "code",
   "execution_count": 64,
   "id": "67b2e2c5",
   "metadata": {},
   "outputs": [],
   "source": [
    "model = Sequential([\n",
    "    Conv2D(32, kernel_size=(3,3), activation='relu', input_shape=(28,28,1)),\n",
    "    MaxPooling2D(pool_size=(2,2)),\n",
    "    Conv2D(64, kernel_size=(3,3), activation='relu'),\n",
    "    MaxPooling2D(pool_size=(2,2)),\n",
    "    Flatten(),\n",
    "    Dense(128, activation='relu'),\n",
    "    Dense(10, activation='softmax')  # 10 класів (цифри 0-9)\n",
    "])"
   ]
  },
  {
   "cell_type": "code",
   "execution_count": 65,
   "id": "74f3aeb0",
   "metadata": {},
   "outputs": [],
   "source": [
    "model.compile(optimizer='adam', loss='categorical_crossentropy', metrics=['accuracy'])"
   ]
  },
  {
   "cell_type": "code",
   "execution_count": 66,
   "id": "b77be4c7",
   "metadata": {},
   "outputs": [
    {
     "name": "stdout",
     "output_type": "stream",
     "text": [
      "Epoch 1/5\n",
      "1875/1875 [==============================] - 77s 38ms/step - loss: 0.1289 - accuracy: 0.9608 - val_loss: 0.0472 - val_accuracy: 0.9846\n",
      "Epoch 2/5\n",
      "1875/1875 [==============================] - 77s 41ms/step - loss: 0.0421 - accuracy: 0.9871 - val_loss: 0.0474 - val_accuracy: 0.9845\n",
      "Epoch 3/5\n",
      "1875/1875 [==============================] - 88s 47ms/step - loss: 0.0287 - accuracy: 0.9909 - val_loss: 0.0318 - val_accuracy: 0.9887\n",
      "Epoch 4/5\n",
      "1875/1875 [==============================] - 81s 43ms/step - loss: 0.0208 - accuracy: 0.9932 - val_loss: 0.0293 - val_accuracy: 0.9904\n",
      "Epoch 5/5\n",
      "1875/1875 [==============================] - 108s 58ms/step - loss: 0.0149 - accuracy: 0.9952 - val_loss: 0.0365 - val_accuracy: 0.9892\n"
     ]
    },
    {
     "data": {
      "text/plain": [
       "<keras.callbacks.History at 0x215ec1abd50>"
      ]
     },
     "execution_count": 66,
     "metadata": {},
     "output_type": "execute_result"
    }
   ],
   "source": [
    "model.fit(X_train, y_train, epochs=5, batch_size=32, validation_data=(X_test, y_test))"
   ]
  }
 ],
 "metadata": {
  "kernelspec": {
   "display_name": "Python 3",
   "language": "python",
   "name": "python3"
  },
  "language_info": {
   "codemirror_mode": {
    "name": "ipython",
    "version": 3
   },
   "file_extension": ".py",
   "mimetype": "text/x-python",
   "name": "python",
   "nbconvert_exporter": "python",
   "pygments_lexer": "ipython3",
   "version": "3.11.9"
  }
 },
 "nbformat": 4,
 "nbformat_minor": 5
}
