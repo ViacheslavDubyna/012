{
 "cells": [
  {
   "cell_type": "markdown",
   "metadata": {},
   "source": [
    "# Viacheslav Dubyna #\n",
    "## groop 5206 ##\n",
    "Dubyna:\n",
    "1. Iryna\n",
    "2. Milana\n",
    "\n"
   ]
  },
  {
   "cell_type": "code",
   "execution_count": 1,
   "metadata": {},
   "outputs": [
    {
     "ename": "SyntaxError",
     "evalue": "invalid syntax (2579291228.py, line 1)",
     "output_type": "error",
     "traceback": [
      "\u001b[1;36m  Cell \u001b[1;32mIn[1], line 1\u001b[1;36m\u001b[0m\n\u001b[1;33m    python3 -m pip install 'tensorflow[and-cuda]'\u001b[0m\n\u001b[1;37m               ^\u001b[0m\n\u001b[1;31mSyntaxError\u001b[0m\u001b[1;31m:\u001b[0m invalid syntax\n"
     ]
    }
   ],
   "source": [
    "python3 -m pip install 'tensorflow[and-cuda]'\n"
   ]
  },
  {
   "cell_type": "code",
   "execution_count": 3,
   "metadata": {},
   "outputs": [
    {
     "name": "stdout",
     "output_type": "stream",
     "text": [
      "Привіт, це моя перша робота з Jupyter Notebook у VS Code!\n"
     ]
    }
   ],
   "source": [
    "print(\"Привіт, це моя перша робота з Jupyter Notebook у VS Code!\")"
   ]
  },
  {
   "cell_type": "code",
   "execution_count": 8,
   "metadata": {},
   "outputs": [
    {
     "name": "stdout",
     "output_type": "stream",
     "text": [
      "Slava 33 1.82 True\n",
      "<class 'str'> <class 'int'> <class 'float'> <class 'bool'>\n"
     ]
    }
   ],
   "source": [
    "\n",
    "name = \"Slava\"  # str\n",
    "age = 33        # int\n",
    "height = 1.82   # float\n",
    "is_student = True  # bool\n",
    "\n",
    "\n",
    "print(name, age, height, is_student)\n",
    "print(type(name), type(age), type(height), type(is_student))\n"
   ]
  },
  {
   "cell_type": "code",
   "execution_count": 9,
   "metadata": {},
   "outputs": [
    {
     "name": "stdout",
     "output_type": "stream",
     "text": [
      "Результат множення 9 на 2: 18\n"
     ]
    }
   ],
   "source": [
    "user_input = input(\"Введіть ціле число: \")\n",
    "number = int(user_input)  # перетворюємо з рядка у ціле\n",
    "result = number * 2\n",
    "print(f\"Результат множення {number} на 2: {result}\")"
   ]
  },
  {
   "cell_type": "code",
   "execution_count": 10,
   "metadata": {},
   "outputs": [
    {
     "name": "stdout",
     "output_type": "stream",
     "text": [
      "Вітаємо! Ви повнолітній.\n"
     ]
    }
   ],
   "source": [
    "age = int(input(\"Введіть ваш вік: \"))\n",
    "if age < 18:\n",
    "    print(\"Ви ще неповнолітній.\")\n",
    "else:\n",
    "    print(\"Вітаємо! Ви повнолітній.\")"
   ]
  },
  {
   "cell_type": "code",
   "execution_count": 18,
   "metadata": {},
   "outputs": [
    {
     "name": "stdout",
     "output_type": "stream",
     "text": [
      "0\n",
      "1\n",
      "2\n",
      "3\n",
      "4\n",
      "5\n",
      "6\n",
      "7\n",
      "8\n",
      "9\n",
      "10\n",
      "11\n",
      "12\n",
      "13\n",
      "14\n",
      "15\n",
      "16\n",
      "17\n"
     ]
    }
   ],
   "source": [
    "for i in range(7+11):\n",
    "    print(i)"
   ]
  },
  {
   "cell_type": "code",
   "execution_count": 14,
   "metadata": {},
   "outputs": [
    {
     "name": "stdout",
     "output_type": "stream",
     "text": [
      "17\n",
      "16\n",
      "15\n",
      "14\n",
      "13\n",
      "12\n",
      "11\n",
      "10\n",
      "9\n",
      "8\n",
      "7\n",
      "6\n",
      "5\n",
      "4\n",
      "3\n",
      "2\n",
      "1\n"
     ]
    }
   ],
   "source": [
    "j = 10+7\n",
    "while j >= 1:\n",
    "    print(j)\n",
    "    j -= 1"
   ]
  },
  {
   "cell_type": "code",
   "execution_count": 19,
   "metadata": {},
   "outputs": [
    {
     "name": "stdout",
     "output_type": "stream",
     "text": [
      "Простий калькулятор\n",
      "Результат: 200.0\n"
     ]
    }
   ],
   "source": [
    "print(\"Простий калькулятор\")\n",
    "\n",
    "num1 = float(input(\"Введіть перше число: \"))\n",
    "num2 = float(input(\"Введіть друге число: \"))\n",
    "operation = input(\"Оберіть операцію (+, -, *, /): \")\n",
    "\n",
    "if operation == \"+\":\n",
    "    result = num1 + num2\n",
    "elif operation == \"-\":\n",
    "    result = num1 - num2\n",
    "elif operation == \"*\":\n",
    "    result = num1 * num2\n",
    "elif operation == \"/\":\n",
    "    if num2 == 0:\n",
    "        result = \"Помилка: ділення на нуль!\"\n",
    "    else:\n",
    "        result = num1 / num2\n",
    "else:\n",
    "    result = \"Невідома операція!\"\n",
    "\n",
    "print(\"Результат:\", result)"
   ]
  }
 ],
 "metadata": {
  "kernelspec": {
   "display_name": "Python 3",
   "language": "python",
   "name": "python3"
  },
  "language_info": {
   "codemirror_mode": {
    "name": "ipython",
    "version": 3
   },
   "file_extension": ".py",
   "mimetype": "text/x-python",
   "name": "python",
   "nbconvert_exporter": "python",
   "pygments_lexer": "ipython3",
   "version": "3.11.9"
  }
 },
 "nbformat": 4,
 "nbformat_minor": 2
}
