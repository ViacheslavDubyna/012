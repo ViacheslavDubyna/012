{
 "cells": [
  {
   "cell_type": "code",
   "execution_count": 2,
   "metadata": {},
   "outputs": [
    {
     "name": "stdout",
     "output_type": "stream",
     "text": [
      "XML-файл успішно створений: unit_data.xml\n"
     ]
    }
   ],
   "source": [
    "import xml.etree.ElementTree as ET\n",
    "\n",
    "def create_unit_xml(unit_name, unit_count, unit_status):\n",
    "    \"\"\"\n",
    "    Створює XML-файл з даними про підрозділ.\n",
    "    \n",
    "    :param unit_name: Назва підрозділу\n",
    "    :param unit_count: Кількість осіб в підрозділі\n",
    "    :param unit_status: Стан підрозділу\n",
    "    \"\"\"\n",
    "    # Створення кореневого елементу\n",
    "    root = ET.Element(\"unit_data\")\n",
    "    \n",
    "    # Створення елементів для підрозділу\n",
    "    unit = ET.SubElement(root, \"unit\")\n",
    "    name = ET.SubElement(unit, \"name\")\n",
    "    name.text = unit_name\n",
    "    count = ET.SubElement(unit, \"count\")\n",
    "    count.text = str(unit_count)\n",
    "    status = ET.SubElement(unit, \"status\")\n",
    "    status.text = unit_status\n",
    "    \n",
    "    # Створення дерева з кореневим елементом\n",
    "    tree = ET.ElementTree(root)\n",
    "    \n",
    "    # Збереження XML-файлу\n",
    "    with open(\"unit_data.xml\", \"wb\") as file:\n",
    "        tree.write(file)\n",
    "    print(\"XML-файл успішно створений: unit_data.xml\")\n",
    "\n",
    "if __name__ == \"__main__\":\n",
    "    # Дані про підрозділ\n",
    "    unit_name = \"1-й батальйон\"\n",
    "    unit_count = 150\n",
    "    unit_status = \"Бойова готовність\"\n",
    "\n",
    "    # Створення XML-файлу\n",
    "    create_unit_xml(unit_name, unit_count, unit_status)\n"
   ]
  },
  {
   "cell_type": "code",
   "execution_count": null,
   "metadata": {},
   "outputs": [],
   "source": [
    "<unit_data>\n",
    "    <unit>\n",
    "        <name>1-й батальйон</name>\n",
    "        <count>150</count>\n",
    "        <status>Бойова готовність</status>\n",
    "    </unit>\n",
    "</unit_data>\n"
   ]
  }
 ],
 "metadata": {
  "kernelspec": {
   "display_name": "Python 3",
   "language": "python",
   "name": "python3"
  },
  "language_info": {
   "codemirror_mode": {
    "name": "ipython",
    "version": 3
   },
   "file_extension": ".py",
   "mimetype": "text/x-python",
   "name": "python",
   "nbconvert_exporter": "python",
   "pygments_lexer": "ipython3",
   "version": "3.11.9"
  }
 },
 "nbformat": 4,
 "nbformat_minor": 2
}
