{
 "cells": [
  {
   "cell_type": "code",
   "execution_count": 5,
   "metadata": {},
   "outputs": [
    {
     "name": "stdout",
     "output_type": "stream",
     "text": [
      "Collecting openpyxl\n",
      "  Downloading openpyxl-3.1.5-py2.py3-none-any.whl.metadata (2.5 kB)\n",
      "Collecting et-xmlfile (from openpyxl)\n",
      "  Downloading et_xmlfile-2.0.0-py3-none-any.whl.metadata (2.7 kB)\n",
      "Downloading openpyxl-3.1.5-py2.py3-none-any.whl (250 kB)\n",
      "   ---------------------------------------- 0.0/250.9 kB ? eta -:--:--\n",
      "   ---------------------------------------- 0.0/250.9 kB ? eta -:--:--\n",
      "   - -------------------------------------- 10.2/250.9 kB ? eta -:--:--\n",
      "   ---- ---------------------------------- 30.7/250.9 kB 325.1 kB/s eta 0:00:01\n",
      "   ----------- --------------------------- 71.7/250.9 kB 491.5 kB/s eta 0:00:01\n",
      "   ------------------ ------------------- 122.9/250.9 kB 654.9 kB/s eta 0:00:01\n",
      "   ---------------------------------------  245.8/250.9 kB 1.1 MB/s eta 0:00:01\n",
      "   ---------------------------------------- 250.9/250.9 kB 1.0 MB/s eta 0:00:00\n",
      "Downloading et_xmlfile-2.0.0-py3-none-any.whl (18 kB)\n",
      "Installing collected packages: et-xmlfile, openpyxl\n",
      "Successfully installed et-xmlfile-2.0.0 openpyxl-3.1.5\n",
      "Note: you may need to restart the kernel to use updated packages.\n"
     ]
    },
    {
     "name": "stderr",
     "output_type": "stream",
     "text": [
      "\n",
      "[notice] A new release of pip is available: 24.0 -> 24.3.1\n",
      "[notice] To update, run: C:\\Users\\TZ\\AppData\\Local\\Microsoft\\WindowsApps\\PythonSoftwareFoundation.Python.3.11_qbz5n2kfra8p0\\python.exe -m pip install --upgrade pip\n"
     ]
    }
   ],
   "source": [
    "%pip install openpyxl"
   ]
  },
  {
   "cell_type": "code",
   "execution_count": 6,
   "metadata": {},
   "outputs": [
    {
     "name": "stdout",
     "output_type": "stream",
     "text": [
      "Відфільтровані дані збережено у файл 'filtered_data.xlsx'.\n"
     ]
    }
   ],
   "source": [
    "import pandas as pd\n",
    "\n",
    "# Дані для створення Excel-файлу\n",
    "data = {\n",
    "    \"Ім'я\": [\"Петро\", \"Сірий\", \"Саша\", \"Кирило\", \"Матвій\"],\n",
    "    \"Дата\": [\"2024-07-01\", \"2024-11-10\", \"2024-10-18\", \"2024-09-12\", \"2024-08-09\"],\n",
    "    \"Відділ\": [\"Маркетинг\", \"Проекти\", \"Розрахунки\", \"Аналіз\", \"Облік\"],\n",
    "}\n",
    "\n",
    "# Створюємо DataFrame\n",
    "df = pd.DataFrame(data)\n",
    "\n",
    "# Зберігаємо у файл data.xlsx\n",
    "file_path = \"data.xlsx\"\n",
    "df.to_excel(file_path, index=False)\n",
    "\n",
    "file_path\n",
    "'data.xlsx'\n",
    "import pandas as pd\n",
    "from datetime import datetime, timedelta\n",
    "\n",
    "# Шлях до файлу Excel\n",
    "input_file = \"data.xlsx\"  # Замініть на шлях до вашого файлу\n",
    "output_file = \"filtered_data.xlsx\"\n",
    "\n",
    "# Читання даних з Excel\n",
    "data = pd.read_excel(input_file)\n",
    "\n",
    "# Перевіряємо, чи є в таблиці колонка з датами\n",
    "date_column = \"Дата\"  # Замініть на назву колонки з датами у вашому файлі\n",
    "if date_column not in data.columns:\n",
    "    raise ValueError(f\"Колонка '{date_column}' не знайдена в даних.\")\n",
    "\n",
    "# Конвертуємо колонку з датами у формат datetime\n",
    "data[date_column] = pd.to_datetime(data[date_column], errors='coerce')\n",
    "\n",
    "# Вибираємо поточний місяць\n",
    "current_date = datetime.now()\n",
    "last_month_start = (current_date.replace(day=1) - timedelta(days=1)).replace(day=1)\n",
    "last_month_end = last_month_start.replace(day=1) + timedelta(days=31)\n",
    "last_month_end = last_month_end.replace(day=1) - timedelta(days=1)\n",
    "\n",
    "# Фільтруємо дані за останнім місяцем\n",
    "filtered_data = data[(data[date_column] >= last_month_start) & (data[date_column] <= last_month_end)]\n",
    "\n",
    "# Збереження відфільтрованих даних у новий Excel-файл\n",
    "filtered_data.to_excel(output_file, index=False)\n",
    "\n",
    "print(f\"Відфільтровані дані збережено у файл '{output_file}'.\")"
   ]
  },
  {
   "cell_type": "code",
   "execution_count": null,
   "metadata": {},
   "outputs": [],
   "source": []
  }
 ],
 "metadata": {
  "kernelspec": {
   "display_name": "Python 3",
   "language": "python",
   "name": "python3"
  },
  "language_info": {
   "codemirror_mode": {
    "name": "ipython",
    "version": 3
   },
   "file_extension": ".py",
   "mimetype": "text/x-python",
   "name": "python",
   "nbconvert_exporter": "python",
   "pygments_lexer": "ipython3",
   "version": "3.11.9"
  }
 },
 "nbformat": 4,
 "nbformat_minor": 2
}
