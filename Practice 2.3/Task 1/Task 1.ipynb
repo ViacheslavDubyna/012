{
 "cells": [
  {
   "cell_type": "code",
   "execution_count": 8,
   "metadata": {},
   "outputs": [
    {
     "name": "stdout",
     "output_type": "stream",
     "text": [
      "Collecting beautifulsoup4\n",
      "  Downloading beautifulsoup4-4.12.3-py3-none-any.whl.metadata (3.8 kB)\n",
      "Collecting soupsieve>1.2 (from beautifulsoup4)\n",
      "  Downloading soupsieve-2.6-py3-none-any.whl.metadata (4.6 kB)\n",
      "Downloading beautifulsoup4-4.12.3-py3-none-any.whl (147 kB)\n",
      "   ---------------------------------------- 0.0/147.9 kB ? eta -:--:--\n",
      "   ---------------------------------------- 0.0/147.9 kB ? eta -:--:--\n",
      "   -- ------------------------------------- 10.2/147.9 kB ? eta -:--:--\n",
      "   -- ------------------------------------- 10.2/147.9 kB ? eta -:--:--\n",
      "   -------- ------------------------------ 30.7/147.9 kB 217.9 kB/s eta 0:00:01\n",
      "   ---------- ---------------------------- 41.0/147.9 kB 245.8 kB/s eta 0:00:01\n",
      "   ------------------------ -------------- 92.2/147.9 kB 403.5 kB/s eta 0:00:01\n",
      "   ------------------------------------ - 143.4/147.9 kB 566.5 kB/s eta 0:00:01\n",
      "   -------------------------------------- 147.9/147.9 kB 550.7 kB/s eta 0:00:00\n",
      "Downloading soupsieve-2.6-py3-none-any.whl (36 kB)\n",
      "Installing collected packages: soupsieve, beautifulsoup4\n",
      "Successfully installed beautifulsoup4-4.12.3 soupsieve-2.6\n",
      "Note: you may need to restart the kernel to use updated packages.\n"
     ]
    },
    {
     "name": "stderr",
     "output_type": "stream",
     "text": [
      "\n",
      "[notice] A new release of pip is available: 24.0 -> 24.3.1\n",
      "[notice] To update, run: C:\\Users\\TZ\\AppData\\Local\\Microsoft\\WindowsApps\\PythonSoftwareFoundation.Python.3.11_qbz5n2kfra8p0\\python.exe -m pip install --upgrade pip\n"
     ]
    }
   ],
   "source": [
    "%pip install beautifulsoup4"
   ]
  },
  {
   "cell_type": "code",
   "execution_count": 3,
   "metadata": {},
   "outputs": [
    {
     "name": "stdout",
     "output_type": "stream",
     "text": [
      "Collecting requestsNote: you may need to restart the kernel to use updated packages.\n",
      "\n",
      "  Downloading requests-2.32.3-py3-none-any.whl.metadata (4.6 kB)\n",
      "Collecting charset-normalizer<4,>=2 (from requests)\n",
      "  Downloading charset_normalizer-3.4.1-cp311-cp311-win_amd64.whl.metadata (36 kB)\n",
      "Collecting idna<4,>=2.5 (from requests)\n",
      "  Downloading idna-3.10-py3-none-any.whl.metadata (10 kB)\n",
      "Collecting urllib3<3,>=1.21.1 (from requests)\n",
      "  Downloading urllib3-2.3.0-py3-none-any.whl.metadata (6.5 kB)\n",
      "Collecting certifi>=2017.4.17 (from requests)\n",
      "  Downloading certifi-2024.12.14-py3-none-any.whl.metadata (2.3 kB)\n",
      "Downloading requests-2.32.3-py3-none-any.whl (64 kB)\n",
      "   ---------------------------------------- 0.0/64.9 kB ? eta -:--:--\n",
      "   ------------------ --------------------- 30.7/64.9 kB 1.3 MB/s eta 0:00:01\n",
      "   ------------------------------------- -- 61.4/64.9 kB 812.7 kB/s eta 0:00:01\n",
      "   ---------------------------------------- 64.9/64.9 kB 701.1 kB/s eta 0:00:00\n",
      "Downloading certifi-2024.12.14-py3-none-any.whl (164 kB)\n",
      "   ---------------------------------------- 0.0/164.9 kB ? eta -:--:--\n",
      "   ----------------- ---------------------- 71.7/164.9 kB 3.8 MB/s eta 0:00:01\n",
      "   ----------------------------- ---------- 122.9/164.9 kB 1.2 MB/s eta 0:00:01\n",
      "   ---------------------------------------- 164.9/164.9 kB 1.1 MB/s eta 0:00:00\n",
      "Downloading charset_normalizer-3.4.1-cp311-cp311-win_amd64.whl (102 kB)\n",
      "   ---------------------------------------- 0.0/102.4 kB ? eta -:--:--\n",
      "   ---------------------------------------  102.4/102.4 kB 5.8 MB/s eta 0:00:01\n",
      "   ---------------------------------------- 102.4/102.4 kB 3.0 MB/s eta 0:00:00\n",
      "Downloading idna-3.10-py3-none-any.whl (70 kB)\n",
      "   ---------------------------------------- 0.0/70.4 kB ? eta -:--:--\n",
      "   ---------------------------------- ----- 61.4/70.4 kB 3.4 MB/s eta 0:00:01\n",
      "   ---------------------------------------- 70.4/70.4 kB 1.3 MB/s eta 0:00:00\n",
      "Downloading urllib3-2.3.0-py3-none-any.whl (128 kB)\n",
      "   ---------------------------------------- 0.0/128.4 kB ? eta -:--:--\n",
      "   ---------------------------- ----------- 92.2/128.4 kB 2.6 MB/s eta 0:00:01\n",
      "   ---------------------------------------- 128.4/128.4 kB 1.5 MB/s eta 0:00:00\n",
      "Installing collected packages: urllib3, idna, charset-normalizer, certifi, requests\n",
      "Successfully installed certifi-2024.12.14 charset-normalizer-3.4.1 idna-3.10 requests-2.32.3 urllib3-2.3.0\n"
     ]
    },
    {
     "name": "stderr",
     "output_type": "stream",
     "text": [
      "\n",
      "[notice] A new release of pip is available: 24.0 -> 24.3.1\n",
      "[notice] To update, run: C:\\Users\\TZ\\AppData\\Local\\Microsoft\\WindowsApps\\PythonSoftwareFoundation.Python.3.11_qbz5n2kfra8p0\\python.exe -m pip install --upgrade pip\n"
     ]
    }
   ],
   "source": [
    "%pip install requests"
   ]
  },
  {
   "cell_type": "code",
   "execution_count": 16,
   "metadata": {},
   "outputs": [
    {
     "name": "stdout",
     "output_type": "stream",
     "text": [
      "Збираємо заголовки та дати...\n",
      "Знайдені пости:\n",
      "1. 18 Грудня, 2024 17:21 - Скаути передали Вифлеємський вогонь українським захисникам: символ миру та надії\n",
      "2. 18 Грудня, 2024 16:25 - Казимир Малевич: повернення до української культури через кінематограф\n",
      "3. 18 Грудня, 2024 13:30 - Віддані захисники: Вікі та Вуді на службі в Дністровській бригаді\n",
      "4. 18 Грудня, 2024 8:30 - Вітання Головнокомандувача ЗС України з нагоди Дня військової контррозвідки СБУ\n",
      "5. 18 Грудня, 2024 8:10 - Оперативна інформація  станом на 08.00 18.12.2024 щодо російського вторгнення\n",
      "6. 17 Грудня, 2024 17:00 - Головнокомандувач ЗС України виступив у режимі онлайн на засіданні Конгресу місцевих та регіональних влад під головуванням Президента України\n",
      "7. 17 Грудня, 2024 8:10 - Оперативна інформація станом на 08.00 17.12.2024 щодо російського вторгнення\n",
      "8. 16 Грудня, 2024 17:25 - Хакатон Happy New Fear: інновації для знищення ворожого тилу та розумного мінування\n",
      "9. 16 Грудня, 2024 15:00 - Службова перевірка посадових осіб 211-ї понтонно-мостової бригади Сил підтримки Збройних Сил України\n",
      "10. 16 Грудня, 2024 9:30 - Завершення етапу проєкту DCAF з вивчення міжнародного гуманітарного права\n"
     ]
    }
   ],
   "source": [
    "import requests\n",
    "from bs4 import BeautifulSoup\n",
    "\n",
    "# URL сторінки для парсингу\n",
    "URL = \"https://www.zsu.gov.ua/category/news/page/7/\"\n",
    "\n",
    "# Функція для збору заголовків та дат\n",
    "def scrape_titles_and_dates(url):\n",
    "    try:\n",
    "        # Заголовки для запиту\n",
    "        headers = {\n",
    "            \"User-Agent\": \"Mozilla/5.0 (Windows NT 10.0; Win64; x64) AppleWebKit/537.36 (KHTML, like Gecko) Chrome/91.0.4472.124 Safari/537.36\",\n",
    "            \"Accept-Language\": \"en-US,en;q=0.9\",\n",
    "            \"Referer\": \"https://www.zsu.gov.ua/\"\n",
    "        }\n",
    "        \n",
    "        # Надсилаємо запит\n",
    "        response = requests.get(url, headers=headers)\n",
    "        response.raise_for_status()\n",
    "        \n",
    "        # Парсимо HTML\n",
    "        soup = BeautifulSoup(response.text, 'html.parser')\n",
    "        \n",
    "        # Збираємо всі блоки опису постів\n",
    "        posts = soup.find_all('div', class_='post__description')\n",
    "        \n",
    "        # Збираємо дати та заголовки\n",
    "        data = []\n",
    "        for post in posts:\n",
    "            date = post.find('div', class_='post__date').get_text(strip=True)\n",
    "            title = post.find('div', class_='post__title').get_text(strip=True)\n",
    "            data.append({\"date\": date, \"title\": title})\n",
    "        \n",
    "        return data\n",
    "    except requests.RequestException as e:\n",
    "        print(f\"Помилка запиту: {e}\")\n",
    "        return []\n",
    "    except Exception as e:\n",
    "        print(f\"Помилка парсингу: {e}\")\n",
    "        return []\n",
    "\n",
    "# Основний код\n",
    "if __name__ == \"__main__\":\n",
    "    print(\"Збираємо заголовки та дати...\")\n",
    "    posts_data = scrape_titles_and_dates(URL)\n",
    "    \n",
    "    if posts_data:\n",
    "        print(\"Знайдені пости:\")\n",
    "        for idx, post in enumerate(posts_data, start=1):\n",
    "            print(f\"{idx}. {post['date']} - {post['title']}\")\n",
    "    else:\n",
    "        print(\"Жодних даних не знайдено.\")"
   ]
  }
 ],
 "metadata": {
  "kernelspec": {
   "display_name": "Python 3",
   "language": "python",
   "name": "python3"
  },
  "language_info": {
   "codemirror_mode": {
    "name": "ipython",
    "version": 3
   },
   "file_extension": ".py",
   "mimetype": "text/x-python",
   "name": "python",
   "nbconvert_exporter": "python",
   "pygments_lexer": "ipython3",
   "version": "3.11.9"
  }
 },
 "nbformat": 4,
 "nbformat_minor": 2
}
